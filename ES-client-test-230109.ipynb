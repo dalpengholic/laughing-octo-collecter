{
 "cells": [
  {
   "cell_type": "code",
   "execution_count": 1,
   "id": "16003aaa",
   "metadata": {},
   "outputs": [],
   "source": [
    "from datetime import datetime\n",
    "from elasticsearch import Elasticsearch"
   ]
  },
  {
   "cell_type": "code",
   "execution_count": 8,
   "id": "fa64c78d",
   "metadata": {},
   "outputs": [],
   "source": [
    "es = Elasticsearch(\n",
    "    [\"https://c45765db32014923bdd8da80b83931bb.us-central1.gcp.cloud.es.io:443\"], \n",
    "    api_key=(\"OehmloUBbTbdOFUyfdzT\", \"J_QqFNJ0ThWTLvX15C-lyw\"))\n"
   ]
  },
  {
   "cell_type": "code",
   "execution_count": 10,
   "id": "8ff1bf10",
   "metadata": {},
   "outputs": [
    {
     "data": {
      "text/plain": [
       "{'productname': 'Arla 1L', 'cost': '1.1euro', 'date': '2023-01-09'}"
      ]
     },
     "execution_count": 10,
     "metadata": {},
     "output_type": "execute_result"
    }
   ],
   "source": [
    "es.get(index=\"test\", id=\"milk\")['_source']\n"
   ]
  },
  {
   "cell_type": "code",
   "execution_count": 16,
   "id": "a9b5eeca",
   "metadata": {},
   "outputs": [
    {
     "data": {
      "text/plain": [
       "ObjectApiResponse({'_index': 'test', '_id': 'milk-2', '_version': 1, '_seq_no': 4, '_primary_term': 1, 'found': True, '_source': {'productname': 'Arla 2L', 'cost': '2.2euro', 'date': '2023-01-09'}})"
      ]
     },
     "execution_count": 16,
     "metadata": {},
     "output_type": "execute_result"
    }
   ],
   "source": [
    "es.get(index=\"test\", id=\"milk-2\")"
   ]
  },
  {
   "cell_type": "code",
   "execution_count": 17,
   "id": "0544a96e",
   "metadata": {},
   "outputs": [
    {
     "data": {
      "text/plain": [
       "ObjectApiResponse({'_index': 'my-index-000001', '_id': '42', '_version': 1, 'result': 'created', '_shards': {'total': 2, 'successful': 2, 'failed': 0}, '_seq_no': 0, '_primary_term': 1})"
      ]
     },
     "execution_count": 17,
     "metadata": {},
     "output_type": "execute_result"
    }
   ],
   "source": [
    "es.index(index=\"my-index-000001\", id=42, document={\"any\": \"data\", \"timestamp\": datetime.now()})"
   ]
  },
  {
   "cell_type": "code",
   "execution_count": 35,
   "id": "2eeeb6e6",
   "metadata": {},
   "outputs": [
    {
     "data": {
      "text/plain": [
       "ObjectApiResponse({'_index': 'my-index-000001', '_id': '42', '_version': 1, '_seq_no': 0, '_primary_term': 1, 'found': True, '_source': {'any': 'data', 'timestamp': '2023-01-09T14:17:33.898038'}})"
      ]
     },
     "execution_count": 35,
     "metadata": {},
     "output_type": "execute_result"
    }
   ],
   "source": [
    "es.get(index=\"my-index-000001\", id=42)\n"
   ]
  },
  {
   "cell_type": "code",
   "execution_count": null,
   "id": "8603b19e",
   "metadata": {},
   "outputs": [],
   "source": []
  },
  {
   "cell_type": "code",
   "execution_count": null,
   "id": "5fd694f2",
   "metadata": {},
   "outputs": [],
   "source": []
  }
 ],
 "metadata": {
  "kernelspec": {
   "display_name": "Python 3 (ipykernel)",
   "language": "python",
   "name": "python3"
  },
  "language_info": {
   "codemirror_mode": {
    "name": "ipython",
    "version": 3
   },
   "file_extension": ".py",
   "mimetype": "text/x-python",
   "name": "python",
   "nbconvert_exporter": "python",
   "pygments_lexer": "ipython3",
   "version": "3.10.8"
  }
 },
 "nbformat": 4,
 "nbformat_minor": 5
}
