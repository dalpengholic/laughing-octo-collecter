{
 "cells": [
  {
   "cell_type": "code",
   "execution_count": 1,
   "id": "13c7bba4",
   "metadata": {},
   "outputs": [],
   "source": [
    "from selenium import webdriver\n",
    "from selenium.webdriver.common.keys import Keys\n",
    "import time\n",
    "from selenium.webdriver.common.by import By\n",
    "from selenium.webdriver.support.wait import WebDriverWait\n",
    "from selenium.webdriver.support import expected_conditions as EC\n",
    "from selenium.webdriver.chrome.service import Service\n",
    "from webdriver_manager.chrome import ChromeDriverManager"
   ]
  },
  {
   "cell_type": "code",
   "execution_count": 11,
   "id": "d615b7dd",
   "metadata": {},
   "outputs": [],
   "source": [
    "# Working at jan 8 2023\n",
    "# Update selenium and webdriver\n",
    "driver = webdriver.Chrome(service=Service(ChromeDriverManager().install()))\n",
    "url = 'https://www.google.com'\n",
    "driver.get(url)\n",
    "\n",
    "# driver.implicitly_wait(5)\n",
    "\n",
    "driver.find_element(By.XPATH, \"//*[@id='L2AGLb']/div\").click()"
   ]
  },
  {
   "cell_type": "code",
   "execution_count": null,
   "id": "37035da0",
   "metadata": {},
   "outputs": [],
   "source": []
  },
  {
   "cell_type": "code",
   "execution_count": 8,
   "id": "932b2740",
   "metadata": {},
   "outputs": [
    {
     "ename": "AttributeError",
     "evalue": "'WebDriver' object has no attribute 'find_element_by_xpath'",
     "output_type": "error",
     "traceback": [
      "\u001b[0;31m---------------------------------------------------------------------------\u001b[0m",
      "\u001b[0;31mAttributeError\u001b[0m                            Traceback (most recent call last)",
      "Cell \u001b[0;32mIn[8], line 7\u001b[0m\n\u001b[1;32m      4\u001b[0m driver\u001b[38;5;241m.\u001b[39mget(url)\n\u001b[1;32m      6\u001b[0m \u001b[38;5;66;03m# 서치박스 클릭 \u001b[39;00m\n\u001b[0;32m----> 7\u001b[0m search_box_clickable \u001b[38;5;241m=\u001b[39m \u001b[43mdriver\u001b[49m\u001b[38;5;241;43m.\u001b[39;49m\u001b[43mfind_element_by_xpath\u001b[49m(\u001b[38;5;124m'\u001b[39m\u001b[38;5;124m//*[@id=\u001b[39m\u001b[38;5;124m\"\u001b[39m\u001b[38;5;124m__next\u001b[39m\u001b[38;5;124m\"\u001b[39m\u001b[38;5;124m]/div[1]/div[1]/div/header/div/div[3]/div/button[2]\u001b[39m\u001b[38;5;124m'\u001b[39m)\n\u001b[1;32m      8\u001b[0m search_box_clickable\u001b[38;5;241m.\u001b[39mclick()\n\u001b[1;32m     10\u001b[0m \u001b[38;5;66;03m# 우유 입력 후 엔터\u001b[39;00m\n",
      "\u001b[0;31mAttributeError\u001b[0m: 'WebDriver' object has no attribute 'find_element_by_xpath'"
     ]
    }
   ],
   "source": [
    "# 브라우저 오픈\n",
    "driver = webdriver.Chrome(service=Service(ChromeDriverManager().install()))\n",
    "url = 'https://www.s-kaupat.fi'\n",
    "driver.get(url)\n",
    "\n",
    "# 서치박스 클릭 \n",
    "search_box_clickable = driver.find_element_by_xpath('//*[@id=\"__next\"]/div[1]/div[1]/div/header/div/div[3]/div/button[2]')\n",
    "search_box_clickable.click()\n",
    "\n",
    "# 우유 입력 후 엔터\n",
    "search_box = driver.find_element_by_xpath('//*[@id=\"__next\"]/div[1]/div[1]/div/header/div/div/div/div/div/div/div/input')\n",
    "search_box.send_keys('maito')\n",
    "search_box.send_keys(Keys.RETURN)\n",
    "\n",
    "# 기다리고 엘레멘트 찾기\n",
    "driver.implicitly_wait(3)\n",
    "elements = driver.find_elements_by_class_name('sc-fbd5e216-1')\n",
    "\n"
   ]
  },
  {
   "cell_type": "code",
   "execution_count": 51,
   "id": "ba4fdd44",
   "metadata": {},
   "outputs": [
    {
     "name": "stdout",
     "output_type": "stream",
     "text": [
      "\n",
      "Muokkaa asetuksiasi\n",
      "Vain välttämättömät\n",
      "Hyväksy kaikki\n"
     ]
    }
   ],
   "source": [
    "# 브라우저 오픈\n",
    "\n",
    "driver = webdriver.Chrome(service=Service(ChromeDriverManager().install()))\n",
    "url = 'https://www.s-kaupat.fi/tuotteet/maito-munat-ja-rasvat-0/maidot-ja-piimat/maidot?queryString=maito'\n",
    "driver.get(url)\n",
    "driver.implicitly_wait(3)\n",
    "\n",
    "# 윈도우 뭐가 떠있는지 확인\n",
    "#current_windows = driver.window_handles\n",
    "#print(current_windows)\n",
    "\n",
    "## 쿠기 관련 동의 클릭 \n",
    "shadow_host = driver.find_element(By.CSS_SELECTOR, '#usercentrics-root')\n",
    "shadow_root = shadow_host.shadow_root\n",
    "something1 = shadow_root.find_element(By.CSS_SELECTOR, '#focus-lock-id')\n",
    "something2 = shadow_root.find_element(By.CSS_SELECTOR, '#uc-center-container')\n",
    "# shadow_accpet_btn = shadow_root.find_element(By.XPATH, '//*[@id=\"uc-center-container\"]/div[2]/div/div/div/div/button[3]')\n",
    "\n",
    "shadow_btns = something2.find_elements(By.TAG_NAME, 'button')\n",
    "for e in shadow_btns:\n",
    "    print(e.text)\n",
    "shadow_btns[2].click()\n",
    "\n",
    "\n",
    "# shadow_button = driver.execute_script(\"\"\"return document.querySelector('#usercentrics-root').shadowRoot.querySelector(\"button[data-testid='uc-accept-all-button']\")\"\"\")\n",
    "# shadow_button\n",
    "\n",
    "## 웹엘리먼트 어트리뷰트 모두 보기\n",
    "# attrs = driver.execute_script('var items = {}; for (index = 0; index < arguments[0].attributes.length; ++index) { items[arguments[0].attributes[index].name] = arguments[0].attributes[index].value }; return items;', something)\n",
    "# print(attrs)\n",
    "\n",
    "\n",
    "#shadow_root = shadow_host.shadow_root\n",
    "# shadow_button = shadow_root.find_element(By.XPATH, '//*[@id=\"uc-center-container\"]/div[2]/div/div/div/button[3]')\n"
   ]
  },
  {
   "cell_type": "code",
   "execution_count": 27,
   "id": "ff2934fd",
   "metadata": {},
   "outputs": [
    {
     "data": {
      "text/plain": [
       "'f15a8a88-01ef-4481-9fa3-573a3ee44450'"
      ]
     },
     "execution_count": 27,
     "metadata": {},
     "output_type": "execute_result"
    }
   ],
   "source": [
    "something.id"
   ]
  },
  {
   "cell_type": "code",
   "execution_count": 30,
   "id": "21dd908d",
   "metadata": {},
   "outputs": [
    {
     "data": {
      "text/plain": [
       "'focus-lock-id'"
      ]
     },
     "execution_count": 30,
     "metadata": {},
     "output_type": "execute_result"
    }
   ],
   "source": [
    "something.get_attribute('id')"
   ]
  },
  {
   "cell_type": "code",
   "execution_count": 3,
   "id": "eb1b8a78",
   "metadata": {},
   "outputs": [],
   "source": [
    "# Working with selenium 4 \n",
    "# 브라우저 오픈\n",
    "\n",
    "driver = webdriver.Chrome(service=Service(ChromeDriverManager().install()))\n",
    "url = 'https://www.s-kaupat.fi/tuotteet/maito-munat-ja-rasvat-0/maidot-ja-piimat/maidot?queryString=maito'\n",
    "driver.get(url)\n",
    "driver.implicitly_wait(3)\n",
    "\n",
    "## 쉐도우 잡기\n",
    "shadow_host = driver.find_element(By.CSS_SELECTOR, '#usercentrics-root')\n",
    "shadow_root = shadow_host.shadow_root\n",
    "shadow_container = shadow_root.find_element(By.CSS_SELECTOR, '#uc-center-container')\n",
    "# shadow_accpet_btn = shadow_root.find_element(By.XPATH, '//*[@id=\"uc-center-container\"]/div[2]/div/div/div/div/button[3]')\n",
    "\n",
    "## 쉐도우 버튼 잡기\n",
    "shadow_btns = shadow_container.find_elements(By.TAG_NAME, 'button')\n",
    "shadow_btns[2].click()"
   ]
  },
  {
   "cell_type": "code",
   "execution_count": 2,
   "id": "bcb7fb7d",
   "metadata": {},
   "outputs": [
    {
     "name": "stderr",
     "output_type": "stream",
     "text": [
      "[WDM] - Downloading: 100%|███████████████████████| 6.96M/6.96M [00:00<00:00, 8.87MB/s]\n"
     ]
    }
   ],
   "source": [
    "# Working with selenium 4 \n",
    "# 브라우저 오픈\n",
    "\n",
    "driver = webdriver.Chrome(service=Service(ChromeDriverManager().install()))\n",
    "url = 'https://www.s-kaupat.fi/'\n",
    "driver.get(url)\n",
    "driver.implicitly_wait(3)\n",
    "\n",
    "## 쉐도우 잡기\n",
    "shadow_host = driver.find_element(By.CSS_SELECTOR, '#usercentrics-root')\n",
    "shadow_root = shadow_host.shadow_root\n",
    "shadow_container = shadow_root.find_element(By.CSS_SELECTOR, '#uc-center-container')\n",
    "\n",
    "## 쉐도우 버튼 잡기\n",
    "shadow_btns = shadow_container.find_elements(By.TAG_NAME, 'button')\n",
    "shadow_btns[2].click()"
   ]
  },
  {
   "cell_type": "code",
   "execution_count": null,
   "id": "bc300868",
   "metadata": {},
   "outputs": [],
   "source": []
  }
 ],
 "metadata": {
  "kernelspec": {
   "display_name": "Python 3 (ipykernel)",
   "language": "python",
   "name": "python3"
  },
  "language_info": {
   "codemirror_mode": {
    "name": "ipython",
    "version": 3
   },
   "file_extension": ".py",
   "mimetype": "text/x-python",
   "name": "python",
   "nbconvert_exporter": "python",
   "pygments_lexer": "ipython3",
   "version": "3.10.8"
  }
 },
 "nbformat": 4,
 "nbformat_minor": 5
}
