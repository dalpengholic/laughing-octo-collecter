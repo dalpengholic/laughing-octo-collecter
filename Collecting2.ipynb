{
 "cells": [
  {
   "cell_type": "code",
   "execution_count": 1,
   "id": "422e48c0",
   "metadata": {},
   "outputs": [],
   "source": [
    "from selenium import webdriver\n",
    "from selenium.webdriver.common.keys import Keys\n",
    "import time\n",
    "from selenium.webdriver.common.by import By\n",
    "from selenium.webdriver.support.wait import WebDriverWait\n",
    "from selenium.webdriver.support import expected_conditions as EC\n",
    "from selenium.webdriver.chrome.service import Service\n",
    "from webdriver_manager.chrome import ChromeDriverManager"
   ]
  },
  {
   "cell_type": "code",
   "execution_count": 8,
   "id": "3e0046a0",
   "metadata": {},
   "outputs": [
    {
     "name": "stderr",
     "output_type": "stream",
     "text": [
      "[WDM] - Downloading: 100%|███████████████████████| 6.96M/6.96M [00:00<00:00, 8.52MB/s]\n"
     ]
    }
   ],
   "source": [
    "# Working at jan 8 2023\n",
    "# Update selenium and webdriver\n",
    "driver = webdriver.Chrome(service=Service(ChromeDriverManager().install()))\n",
    "url = 'https://www.google.com'\n",
    "driver.get(url)\n",
    "\n",
    "# driver.implicitly_wait(5)\n",
    "\n",
    "driver.find_element(By.XPATH, \"//*[@id='L2AGLb']/div\").click()"
   ]
  },
  {
   "cell_type": "code",
   "execution_count": 51,
   "id": "3e13ea37",
   "metadata": {},
   "outputs": [],
   "source": [
    "\n",
    "# Working with selenium 4 \n",
    "# 브라우#shadow-root (open)저 오픈\n",
    "\n",
    "driver = webdriver.Chrome(service=Service(ChromeDriverManager().install()))\n",
    "url = 'https://www.s-kaupat.fi/tuotteet/maito-munat-ja-rasvat-0/maidot-ja-piimat/maidot?queryString=maito'\n",
    "driver.get(url)\n",
    "driver.implicitly_wait(3)\n",
    "driver.execute_script(\"window.scrollTo(0, document.body.scrollHeight);\")\n",
    "\n",
    "## 쉐도우 잡기\n",
    "shadow_host = driver.find_element(By.CSS_SELECTOR, '#usercentrics-root')\n",
    "shadow_root = shadow_host.shadow_root\n",
    "shadow_container = shadow_root.find_element(By.CSS_SELECTOR, '#uc-center-container')\n",
    "# shadow_accpet_btn = shadow_root.find_element(By.XPATH, '//*[@id=\"uc-center-container\"]/div[2]/div/div/div/div/button[3]')\n",
    "\n",
    "## 쉐도우 버튼 잡기\n",
    "shadow_btns = shadow_container.find_elements(By.TAG_NAME, 'button')\n",
    "shadow_btns[2].click()\n",
    "\n",
    "## 스크롤 맨 밑으로 내리기\n",
    "driver.execute_script(\"window.scrollTo(0, 1000);\")\n",
    "driver.execute_script(\"window.scrollTo(0, document.body.scrollHeight);\")\n",
    "\n",
    "## 제품명 가격 엘러먼트 잡기\n",
    "## product_part = driver.find_elements(By.CLASS_NAME, \"sc-125051bb-0\")"
   ]
  },
  {
   "cell_type": "code",
   "execution_count": 52,
   "id": "4a549041",
   "metadata": {},
   "outputs": [],
   "source": [
    "driver.implicitly_wait(3)\n",
    "product_names = driver.find_elements(By.XPATH, '//a[@data-test-id=\"product-card__productName\"]')\n",
    "product_prices = driver.find_elements(By.XPATH, '//div[@data-test-id=\"product-card__productPrice__comparisonPrice\"]')\n"
   ]
  },
  {
   "cell_type": "code",
   "execution_count": 53,
   "id": "e54f9f9e",
   "metadata": {},
   "outputs": [
    {
     "name": "stdout",
     "output_type": "stream",
     "text": [
      "31\n",
      "31\n"
     ]
    }
   ],
   "source": [
    "print(len(product_names))\n",
    "print(len(product_prices))"
   ]
  },
  {
   "cell_type": "code",
   "execution_count": 54,
   "id": "54aea7bd",
   "metadata": {},
   "outputs": [
    {
     "name": "stdout",
     "output_type": "stream",
     "text": [
      "Kotimaista kevytmaito 1 l\n",
      "Kotimaista rasvaton maito 1l\n",
      "Valio Hyvä suomalainen Arki® kevytmaitojuoma 1 l\n",
      "Kotimaista täysmaito 1l\n",
      "Valio Hyvä suomalainen Arki® rasvaton maitojuoma 1 l\n",
      "Valio vapaan lehmän rasvaton maito 1 l\n",
      "Valio vapaan lehmän kevytmaito 1 l\n",
      "Juustoportti Vapaan Lehmän rasvaton maito 1 l\n",
      "Valio vapaan lehmän täysmaito 1 l\n",
      "Valio vapaan lehmän ykkösmaito 1 l\n",
      "Valio kevytmaito 5 dl\n",
      "Arla 1 L Suomesta 1% maito\n",
      "Juustoportti Vapaan lehmän kevytmaito 1 l\n",
      "Juustoportti Vapaan lehmän täysmaito 1 l\n",
      "Arla 5 dl Suomi kevytmaito\n",
      "Arla 1,5 L rasvaton maito Suomesta\n",
      "Valio Luomu™ rasvaton maito 1 l\n",
      "Valio Hyvä suomalainen Arki® rasvaton maitojuoma 1,75 l\n",
      "Valio Hyvä suomalainen Arki® kevytmaitojuoma 1,75 l\n",
      "Arla 1 L laktoositon Cafè UHT maito\n",
      "Valio Luomu™ D-vitaminoitu rasvaton maito 1 l\n",
      "Valio Luomu™ rasvaton maito 1,75 l\n",
      "Arla 2 dl Suomi ESL kevyt maito\n",
      "Valio Luomu™ kevytmaito 1 l\n",
      "Arla 1,5 L Suomesta kevytmaito\n",
      "Kotimaista iskukuumennettu vähälaktoosinen täysmaito 1L\n",
      "Valio täysmaito 1 l HYLA® UHT\n",
      "Valio Luomu™ vanhanajan täysmaito 1 l\n",
      "Valio Luomu™ kevytmaito 1,75 l\n",
      "Arla 1 L täysmaito Suomesta\n",
      "Arla Luomu 1 L yhden tilan täysmaito\n",
      "\n",
      "0,95 €/l\n",
      "0,85 €/l\n",
      "0,89 €/l\n",
      "1,19 €/l\n",
      "0,79 €/l\n",
      "1,15 €/l\n",
      "1,19 €/l\n",
      "1,49 €/l\n",
      "1,39 €/l\n",
      "1,19 €/l\n",
      "1,98 €/l\n",
      "1,19 €/l\n",
      "1,65 €/l\n",
      "1,79 €/l\n",
      "1,78 €/l\n",
      "0,97 €/l\n",
      "1,19 €/l\n",
      "0,77 €/l\n",
      "0,87 €/l\n",
      "2,09 €/l\n",
      "1,19 €/l\n",
      "1,14 €/l\n",
      "2,45 €/l\n",
      "1,25 €/l\n",
      "1,06 €/l\n",
      "1,89 €/l\n",
      "2,39 €/l\n",
      "1,55 €/l\n",
      "1,23 €/l\n",
      "1,35 €/l\n",
      "1,69 €/l\n"
     ]
    }
   ],
   "source": [
    "for i in product_names:\n",
    "    print(i.text)\n",
    "    \n",
    "print()\n",
    "for i in product_prices:\n",
    "    print(i.text)"
   ]
  },
  {
   "cell_type": "code",
   "execution_count": 14,
   "id": "65a8013f",
   "metadata": {},
   "outputs": [
    {
     "data": {
      "text/plain": [
       "31"
      ]
     },
     "execution_count": 14,
     "metadata": {},
     "output_type": "execute_result"
    }
   ],
   "source": [
    "product_prices = driver.find_elements(By.XPATH, '//div[@data-test-id=\"product-card__productPrice__comparisonPrice\"]')\n",
    "len(product_prices)"
   ]
  },
  {
   "cell_type": "code",
   "execution_count": 19,
   "id": "2aac013b",
   "metadata": {},
   "outputs": [
    {
     "name": "stdout",
     "output_type": "stream",
     "text": [
      "0,95 €/l\n",
      "0,85 €/l\n",
      "0,89 €/l\n",
      "1,19 €/l\n",
      "0,79 €/l\n",
      "1,15 €/l\n",
      "1,19 €/l\n",
      "1,49 €/l\n",
      "1,39 €/l\n",
      "1,19 €/l\n",
      "1,98 €/l\n",
      "1,19 €/l\n",
      "1,65 €/l\n",
      "1,79 €/l\n",
      "1,78 €/l\n",
      "0,97 €/l\n",
      "1,19 €/l\n",
      "0,77 €/l\n",
      "0,87 €/l\n",
      "2,09 €/l\n",
      "1,19 €/l\n",
      "1,14 €/l\n",
      "2,45 €/l\n",
      "1,25 €/l\n",
      "1,06 €/l\n",
      "1,89 €/l\n",
      "2,39 €/l\n",
      "1,55 €/l\n",
      "1,23 €/l\n",
      "1,35 €/l\n",
      "1,69 €/l\n"
     ]
    }
   ],
   "source": [
    "for i in product_prices:\n",
    "    print(i.text)"
   ]
  },
  {
   "cell_type": "code",
   "execution_count": null,
   "id": "103a8904",
   "metadata": {},
   "outputs": [],
   "source": []
  }
 ],
 "metadata": {
  "kernelspec": {
   "display_name": "Python 3 (ipykernel)",
   "language": "python",
   "name": "python3"
  },
  "language_info": {
   "codemirror_mode": {
    "name": "ipython",
    "version": 3
   },
   "file_extension": ".py",
   "mimetype": "text/x-python",
   "name": "python",
   "nbconvert_exporter": "python",
   "pygments_lexer": "ipython3",
   "version": "3.10.8"
  }
 },
 "nbformat": 4,
 "nbformat_minor": 5
}
