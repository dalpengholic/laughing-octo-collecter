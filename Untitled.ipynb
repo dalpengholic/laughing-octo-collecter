{
 "cells": [
  {
   "cell_type": "code",
   "execution_count": 68,
   "id": "96cc6d62",
   "metadata": {},
   "outputs": [],
   "source": [
    "from selenium import webdriver\n",
    "from selenium.webdriver.common.keys import Keys\n",
    "import time\n",
    "from selenium.webdriver.common.by import By\n",
    "from selenium.webdriver.support.wait import WebDriverWait\n",
    "from selenium.webdriver.support import expected_conditions as EC"
   ]
  },
  {
   "cell_type": "code",
   "execution_count": 43,
   "id": "ff967e95",
   "metadata": {},
   "outputs": [],
   "source": [
    "# 브라우저 오픈\n",
    "driver = webdriver.Chrome('./chromedriver')\n",
    "url = 'https://www.s-kaupat.fi'\n",
    "driver.get(url)\n",
    "\n",
    "# 서치박스 클릭 \n",
    "search_box_clickable = driver.find_element_by_xpath('//*[@id=\"__next\"]/div[1]/div[1]/div/header/div/div[3]/div/button[2]')\n",
    "search_box_clickable.click()\n",
    "\n",
    "# 우유 입력 후 엔터\n",
    "search_box = driver.find_element_by_xpath('//*[@id=\"__next\"]/div[1]/div[1]/div/header/div/div/div/div/div/div/div/input')\n",
    "search_box.send_keys('maito')\n",
    "search_box.send_keys(Keys.RETURN)\n",
    "\n",
    "# 기다리고 엘레멘트 찾기\n",
    "driver.implicitly_wait(3)\n",
    "elements = driver.find_elements_by_class_name('sc-fbd5e216-1')\n",
    "\n"
   ]
  },
  {
   "cell_type": "code",
   "execution_count": 37,
   "id": "543b7ee6",
   "metadata": {},
   "outputs": [
    {
     "name": "stdout",
     "output_type": "stream",
     "text": [
      "<selenium.webdriver.remote.webelement.WebElement (session=\"6e450af5fa17c73967346f7cb348e2c8\", element=\"a47795e6-5a92-4a07-ae17-713b4320f8fd\")>\n",
      "0\n",
      "<selenium.webdriver.remote.webelement.WebElement (session=\"6e450af5fa17c73967346f7cb348e2c8\", element=\"ab5c86fe-9a3a-415d-8bad-5b8eac2e8240\")>\n",
      "1\n",
      "<selenium.webdriver.remote.webelement.WebElement (session=\"6e450af5fa17c73967346f7cb348e2c8\", element=\"64a46cd3-256a-4bef-a3f8-5a29997217bf\")>\n",
      "2\n",
      "<selenium.webdriver.remote.webelement.WebElement (session=\"6e450af5fa17c73967346f7cb348e2c8\", element=\"819578dd-5a3c-473a-8c32-7ee6414464cb\")>\n",
      "3\n",
      "<selenium.webdriver.remote.webelement.WebElement (session=\"6e450af5fa17c73967346f7cb348e2c8\", element=\"ef40823b-fba7-4310-9dfd-49b6ccb3ac98\")>\n",
      "4\n",
      "<selenium.webdriver.remote.webelement.WebElement (session=\"6e450af5fa17c73967346f7cb348e2c8\", element=\"8f2a6295-4894-4d6d-9dc3-65b4ffdd6242\")>\n",
      "5\n",
      "<selenium.webdriver.remote.webelement.WebElement (session=\"6e450af5fa17c73967346f7cb348e2c8\", element=\"83ca9bc8-d4a5-411d-97a8-0940ccb47457\")>\n",
      "6\n",
      "<selenium.webdriver.remote.webelement.WebElement (session=\"6e450af5fa17c73967346f7cb348e2c8\", element=\"1d85cd80-b781-4ce7-ae1d-ede9e81d7e80\")>\n",
      "7\n",
      "<selenium.webdriver.remote.webelement.WebElement (session=\"6e450af5fa17c73967346f7cb348e2c8\", element=\"b6cf25b7-4647-4e2f-8e1a-2e4d76db3a0f\")>\n",
      "8\n",
      "<selenium.webdriver.remote.webelement.WebElement (session=\"6e450af5fa17c73967346f7cb348e2c8\", element=\"c61b6d3f-e8f5-46c8-b7db-f2b898ba8362\")>\n",
      "9\n",
      "<selenium.webdriver.remote.webelement.WebElement (session=\"6e450af5fa17c73967346f7cb348e2c8\", element=\"7b041f74-4edc-4565-b93e-bb3d0e392824\")>\n",
      "10\n",
      "<selenium.webdriver.remote.webelement.WebElement (session=\"6e450af5fa17c73967346f7cb348e2c8\", element=\"0444b568-2604-48aa-9edc-7c79fdf0bc92\")>\n",
      "11\n",
      "<selenium.webdriver.remote.webelement.WebElement (session=\"6e450af5fa17c73967346f7cb348e2c8\", element=\"700c3fd3-3865-4b30-9785-854309c24576\")>\n",
      "12\n",
      "<selenium.webdriver.remote.webelement.WebElement (session=\"6e450af5fa17c73967346f7cb348e2c8\", element=\"183c2210-8542-4891-b5cc-8e9b66811a90\")>\n",
      "13\n",
      "<selenium.webdriver.remote.webelement.WebElement (session=\"6e450af5fa17c73967346f7cb348e2c8\", element=\"723eb7fa-0e70-4509-8c69-499d9426c06c\")>\n",
      "14\n",
      "<selenium.webdriver.remote.webelement.WebElement (session=\"6e450af5fa17c73967346f7cb348e2c8\", element=\"67819f8b-9171-48cc-9e50-a29ce46728fd\")>\n",
      "15\n",
      "<selenium.webdriver.remote.webelement.WebElement (session=\"6e450af5fa17c73967346f7cb348e2c8\", element=\"8a07d864-16fe-4152-9ee6-8d10c03c9594\")>\n",
      "16\n",
      "<selenium.webdriver.remote.webelement.WebElement (session=\"6e450af5fa17c73967346f7cb348e2c8\", element=\"76f2e991-784c-4a76-83ac-2c9234b157ba\")>\n",
      "17\n",
      "<selenium.webdriver.remote.webelement.WebElement (session=\"6e450af5fa17c73967346f7cb348e2c8\", element=\"bff67b05-eda5-41ac-99d5-92976e0e6c17\")>\n",
      "18\n",
      "<selenium.webdriver.remote.webelement.WebElement (session=\"6e450af5fa17c73967346f7cb348e2c8\", element=\"58dbb734-4ea0-4884-be94-e414c7a15f13\")>\n",
      "19\n"
     ]
    }
   ],
   "source": [
    "i = 0\n",
    "for element in elements:\n",
    "    print(element)\n",
    "    print(i)\n",
    "    i += 1"
   ]
  },
  {
   "cell_type": "code",
   "execution_count": 67,
   "id": "d75e6074",
   "metadata": {
    "scrolled": true
   },
   "outputs": [
    {
     "ename": "NoSuchElementException",
     "evalue": "Message: no such element: Unable to locate element: {\"method\":\"xpath\",\"selector\":\"//*[@id=\"uc-center-container\"]/div[2]/div/div/div/div/button[3]\"}\n  (Session info: chrome=108.0.5359.124)\n",
     "output_type": "error",
     "traceback": [
      "\u001b[0;31m---------------------------------------------------------------------------\u001b[0m",
      "\u001b[0;31mNoSuchElementException\u001b[0m                    Traceback (most recent call last)",
      "Cell \u001b[0;32mIn[67], line 9\u001b[0m\n\u001b[1;32m      5\u001b[0m driver\u001b[38;5;241m.\u001b[39mget(url)\n\u001b[1;32m      8\u001b[0m \u001b[38;5;66;03m# 쿠기 관련 동의 클릭 \u001b[39;00m\n\u001b[0;32m----> 9\u001b[0m ck_box_clickable \u001b[38;5;241m=\u001b[39m \u001b[43mdriver\u001b[49m\u001b[38;5;241;43m.\u001b[39;49m\u001b[43mfind_element_by_xpath\u001b[49m\u001b[43m(\u001b[49m\u001b[38;5;124;43m'\u001b[39;49m\u001b[38;5;124;43m//*[@id=\u001b[39;49m\u001b[38;5;124;43m\"\u001b[39;49m\u001b[38;5;124;43muc-center-container\u001b[39;49m\u001b[38;5;124;43m\"\u001b[39;49m\u001b[38;5;124;43m]/div[2]/div/div/div/div/button[3]\u001b[39;49m\u001b[38;5;124;43m'\u001b[39;49m\u001b[43m)\u001b[49m\n\u001b[1;32m     10\u001b[0m ck_box_clickable\u001b[38;5;241m.\u001b[39mclick()\n\u001b[1;32m     12\u001b[0m \u001b[38;5;66;03m# 기다리고 엘레멘트 찾기\u001b[39;00m\n",
      "File \u001b[0;32m~/anaconda3/envs/collector/lib/python3.10/site-packages/selenium/webdriver/remote/webdriver.py:394\u001b[0m, in \u001b[0;36mWebDriver.find_element_by_xpath\u001b[0;34m(self, xpath)\u001b[0m\n\u001b[1;32m    378\u001b[0m \u001b[38;5;28;01mdef\u001b[39;00m \u001b[38;5;21mfind_element_by_xpath\u001b[39m(\u001b[38;5;28mself\u001b[39m, xpath):\n\u001b[1;32m    379\u001b[0m     \u001b[38;5;124;03m\"\"\"\u001b[39;00m\n\u001b[1;32m    380\u001b[0m \u001b[38;5;124;03m    Finds an element by xpath.\u001b[39;00m\n\u001b[1;32m    381\u001b[0m \n\u001b[0;32m   (...)\u001b[0m\n\u001b[1;32m    392\u001b[0m \u001b[38;5;124;03m        element = driver.find_element_by_xpath('//div/td[1]')\u001b[39;00m\n\u001b[1;32m    393\u001b[0m \u001b[38;5;124;03m    \"\"\"\u001b[39;00m\n\u001b[0;32m--> 394\u001b[0m     \u001b[38;5;28;01mreturn\u001b[39;00m \u001b[38;5;28;43mself\u001b[39;49m\u001b[38;5;241;43m.\u001b[39;49m\u001b[43mfind_element\u001b[49m\u001b[43m(\u001b[49m\u001b[43mby\u001b[49m\u001b[38;5;241;43m=\u001b[39;49m\u001b[43mBy\u001b[49m\u001b[38;5;241;43m.\u001b[39;49m\u001b[43mXPATH\u001b[49m\u001b[43m,\u001b[49m\u001b[43m \u001b[49m\u001b[43mvalue\u001b[49m\u001b[38;5;241;43m=\u001b[39;49m\u001b[43mxpath\u001b[49m\u001b[43m)\u001b[49m\n",
      "File \u001b[0;32m~/anaconda3/envs/collector/lib/python3.10/site-packages/selenium/webdriver/remote/webdriver.py:976\u001b[0m, in \u001b[0;36mWebDriver.find_element\u001b[0;34m(self, by, value)\u001b[0m\n\u001b[1;32m    974\u001b[0m         by \u001b[38;5;241m=\u001b[39m By\u001b[38;5;241m.\u001b[39mCSS_SELECTOR\n\u001b[1;32m    975\u001b[0m         value \u001b[38;5;241m=\u001b[39m \u001b[38;5;124m'\u001b[39m\u001b[38;5;124m[name=\u001b[39m\u001b[38;5;124m\"\u001b[39m\u001b[38;5;132;01m%s\u001b[39;00m\u001b[38;5;124m\"\u001b[39m\u001b[38;5;124m]\u001b[39m\u001b[38;5;124m'\u001b[39m \u001b[38;5;241m%\u001b[39m value\n\u001b[0;32m--> 976\u001b[0m \u001b[38;5;28;01mreturn\u001b[39;00m \u001b[38;5;28;43mself\u001b[39;49m\u001b[38;5;241;43m.\u001b[39;49m\u001b[43mexecute\u001b[49m\u001b[43m(\u001b[49m\u001b[43mCommand\u001b[49m\u001b[38;5;241;43m.\u001b[39;49m\u001b[43mFIND_ELEMENT\u001b[49m\u001b[43m,\u001b[49m\u001b[43m \u001b[49m\u001b[43m{\u001b[49m\n\u001b[1;32m    977\u001b[0m \u001b[43m    \u001b[49m\u001b[38;5;124;43m'\u001b[39;49m\u001b[38;5;124;43musing\u001b[39;49m\u001b[38;5;124;43m'\u001b[39;49m\u001b[43m:\u001b[49m\u001b[43m \u001b[49m\u001b[43mby\u001b[49m\u001b[43m,\u001b[49m\n\u001b[1;32m    978\u001b[0m \u001b[43m    \u001b[49m\u001b[38;5;124;43m'\u001b[39;49m\u001b[38;5;124;43mvalue\u001b[39;49m\u001b[38;5;124;43m'\u001b[39;49m\u001b[43m:\u001b[49m\u001b[43m \u001b[49m\u001b[43mvalue\u001b[49m\u001b[43m}\u001b[49m\u001b[43m)\u001b[49m[\u001b[38;5;124m'\u001b[39m\u001b[38;5;124mvalue\u001b[39m\u001b[38;5;124m'\u001b[39m]\n",
      "File \u001b[0;32m~/anaconda3/envs/collector/lib/python3.10/site-packages/selenium/webdriver/remote/webdriver.py:321\u001b[0m, in \u001b[0;36mWebDriver.execute\u001b[0;34m(self, driver_command, params)\u001b[0m\n\u001b[1;32m    319\u001b[0m response \u001b[38;5;241m=\u001b[39m \u001b[38;5;28mself\u001b[39m\u001b[38;5;241m.\u001b[39mcommand_executor\u001b[38;5;241m.\u001b[39mexecute(driver_command, params)\n\u001b[1;32m    320\u001b[0m \u001b[38;5;28;01mif\u001b[39;00m response:\n\u001b[0;32m--> 321\u001b[0m     \u001b[38;5;28;43mself\u001b[39;49m\u001b[38;5;241;43m.\u001b[39;49m\u001b[43merror_handler\u001b[49m\u001b[38;5;241;43m.\u001b[39;49m\u001b[43mcheck_response\u001b[49m\u001b[43m(\u001b[49m\u001b[43mresponse\u001b[49m\u001b[43m)\u001b[49m\n\u001b[1;32m    322\u001b[0m     response[\u001b[38;5;124m'\u001b[39m\u001b[38;5;124mvalue\u001b[39m\u001b[38;5;124m'\u001b[39m] \u001b[38;5;241m=\u001b[39m \u001b[38;5;28mself\u001b[39m\u001b[38;5;241m.\u001b[39m_unwrap_value(\n\u001b[1;32m    323\u001b[0m         response\u001b[38;5;241m.\u001b[39mget(\u001b[38;5;124m'\u001b[39m\u001b[38;5;124mvalue\u001b[39m\u001b[38;5;124m'\u001b[39m, \u001b[38;5;28;01mNone\u001b[39;00m))\n\u001b[1;32m    324\u001b[0m     \u001b[38;5;28;01mreturn\u001b[39;00m response\n",
      "File \u001b[0;32m~/anaconda3/envs/collector/lib/python3.10/site-packages/selenium/webdriver/remote/errorhandler.py:242\u001b[0m, in \u001b[0;36mErrorHandler.check_response\u001b[0;34m(self, response)\u001b[0m\n\u001b[1;32m    240\u001b[0m         alert_text \u001b[38;5;241m=\u001b[39m value[\u001b[38;5;124m'\u001b[39m\u001b[38;5;124malert\u001b[39m\u001b[38;5;124m'\u001b[39m]\u001b[38;5;241m.\u001b[39mget(\u001b[38;5;124m'\u001b[39m\u001b[38;5;124mtext\u001b[39m\u001b[38;5;124m'\u001b[39m)\n\u001b[1;32m    241\u001b[0m     \u001b[38;5;28;01mraise\u001b[39;00m exception_class(message, screen, stacktrace, alert_text)\n\u001b[0;32m--> 242\u001b[0m \u001b[38;5;28;01mraise\u001b[39;00m exception_class(message, screen, stacktrace)\n",
      "\u001b[0;31mNoSuchElementException\u001b[0m: Message: no such element: Unable to locate element: {\"method\":\"xpath\",\"selector\":\"//*[@id=\"uc-center-container\"]/div[2]/div/div/div/div/button[3]\"}\n  (Session info: chrome=108.0.5359.124)\n"
     ]
    }
   ],
   "source": [
    "# 브라우저 오픈\n",
    "\n",
    "driver = webdriver.Chrome('./chromedriver')\n",
    "url = 'https://www.s-kaupat.fi/tuotteet/maito-munat-ja-rasvat-0/maidot-ja-piimat/maidot?queryString=maito'\n",
    "driver.get(url)\n",
    "\n",
    "\n",
    "# 쿠기 관련 동의 클릭 \n",
    "ck_box_clickable = driver.find_element_by_xpath('//*[@id=\"uc-center-container\"]/div[2]/div/div/div/div/button[3]')\n",
    "WebDriverWait(driver, 10).until(EC.element_to_be_clickable((By.XPATH,'//*[@id=\"uc-center-container\"]/div[2]/div/div/div/div/button[3]'))).click()\n",
    "\n",
    "#ck_box_clickable = driver.find_element_by_xpath('//*[@id=\"uc-center-container\"]/div[2]/div/div/div/div/button[3]')\n",
    "#ck_box_clickable.click()\n",
    "\n",
    "# 기다리고 엘레멘트 찾기\n",
    "driver.implicitly_wait(3)\n",
    "driver.execute_script(\"window.scrollTo(0, document.body.scrollHeight);\")\n",
    "driver.implicitly_wait(8)\n",
    "# elements = driver.find_elements_by_class_name(\"sc-fbd5e216-1\")\n",
    "# i = 0\n",
    "# for element in elements:\n",
    "#     print(element.text)\n",
    "#     print(i)\n",
    "#     i += 1\n",
    "#     print()"
   ]
  },
  {
   "cell_type": "code",
   "execution_count": 77,
   "id": "01feafbc",
   "metadata": {},
   "outputs": [
    {
     "name": "stdout",
     "output_type": "stream",
     "text": [
      "['CDwindow-F653ED3F67568D85057468E9310CA8D7']\n"
     ]
    },
    {
     "ename": "TimeoutException",
     "evalue": "Message: \n",
     "output_type": "error",
     "traceback": [
      "\u001b[0;31m---------------------------------------------------------------------------\u001b[0m",
      "\u001b[0;31mTimeoutException\u001b[0m                          Traceback (most recent call last)",
      "Cell \u001b[0;32mIn[77], line 13\u001b[0m\n\u001b[1;32m     11\u001b[0m \u001b[38;5;66;03m# # 쿠기 관련 동의 클릭 \u001b[39;00m\n\u001b[1;32m     12\u001b[0m wait \u001b[38;5;241m=\u001b[39m WebDriverWait(driver, \u001b[38;5;241m15\u001b[39m)\n\u001b[0;32m---> 13\u001b[0m \u001b[43mwait\u001b[49m\u001b[38;5;241;43m.\u001b[39;49m\u001b[43muntil\u001b[49m\u001b[43m(\u001b[49m\u001b[43mEC\u001b[49m\u001b[38;5;241;43m.\u001b[39;49m\u001b[43melement_to_be_clickable\u001b[49m\u001b[43m(\u001b[49m\u001b[43m(\u001b[49m\u001b[43mBy\u001b[49m\u001b[38;5;241;43m.\u001b[39;49m\u001b[43mXPATH\u001b[49m\u001b[43m,\u001b[49m\u001b[43m \u001b[49m\u001b[38;5;124;43m'\u001b[39;49m\u001b[38;5;124;43m///*[@id=\u001b[39;49m\u001b[38;5;124;43m\"\u001b[39;49m\u001b[38;5;124;43muc-center-container\u001b[39;49m\u001b[38;5;124;43m\"\u001b[39;49m\u001b[38;5;124;43m]/div[2]/div/div/div/div/button[3]\u001b[39;49m\u001b[38;5;124;43m'\u001b[39;49m\u001b[43m)\u001b[49m\u001b[43m)\u001b[49m\u001b[43m)\u001b[49m\n\u001b[1;32m     14\u001b[0m ck_box_clickable \u001b[38;5;241m=\u001b[39m driver\u001b[38;5;241m.\u001b[39mfind_element_by_css_selector(\u001b[38;5;124m\"\u001b[39m\u001b[38;5;124m#uc-center-container > div.sc-cCjUiG.gHlwwJ > div > div > div > div > button.sc-eDvSVe.dkGsnv\u001b[39m\u001b[38;5;124m\"\u001b[39m)\n\u001b[1;32m     16\u001b[0m ck_box_clickable\u001b[38;5;241m.\u001b[39mclick()\n",
      "File \u001b[0;32m~/anaconda3/envs/collector/lib/python3.10/site-packages/selenium/webdriver/support/wait.py:80\u001b[0m, in \u001b[0;36mWebDriverWait.until\u001b[0;34m(self, method, message)\u001b[0m\n\u001b[1;32m     78\u001b[0m     \u001b[38;5;28;01mif\u001b[39;00m time\u001b[38;5;241m.\u001b[39mtime() \u001b[38;5;241m>\u001b[39m end_time:\n\u001b[1;32m     79\u001b[0m         \u001b[38;5;28;01mbreak\u001b[39;00m\n\u001b[0;32m---> 80\u001b[0m \u001b[38;5;28;01mraise\u001b[39;00m TimeoutException(message, screen, stacktrace)\n",
      "\u001b[0;31mTimeoutException\u001b[0m: Message: \n"
     ]
    }
   ],
   "source": [
    "# 브라우저 오픈\n",
    "\n",
    "driver = webdriver.Chrome('./chromedriver')\n",
    "url = 'https://www.s-kaupat.fi/tuotteet/maito-munat-ja-rasvat-0/maidot-ja-piimat/maidot?queryString=maito'\n",
    "driver.get(url)\n",
    "driver.implicitly_wait(8)\n",
    "\n",
    "# 윈도우 뭐가 떠있는지 확인\n",
    "current_windows = driver.window_handles\n",
    "print(current_windows)\n",
    "# # 쿠기 관련 동의 클릭 \n",
    "wait = WebDriverWait(driver, 15)\n",
    "wait.until(EC.element_to_be_clickable((By.XPATH, '///*[@id=\"uc-center-container\"]/div[2]/div/div/div/div/button[3]')))\n",
    "ck_box_clickable = driver.find_element_by_css_selector(\"#uc-center-container > div.sc-cCjUiG.gHlwwJ > div > div > div > div > button.sc-eDvSVe.dkGsnv\")\n",
    "\n",
    "ck_box_clickable.click()                          \n"
   ]
  },
  {
   "cell_type": "code",
   "execution_count": 128,
   "id": "6657da52",
   "metadata": {},
   "outputs": [
    {
     "ename": "NoSuchElementException",
     "evalue": "Message: no such element: Unable to locate element: {\"method\":\"xpath\",\"selector\":\"//*[@id=\"usercentrics-language-selector\"]/button/svg/g/g/path\"}\n  (Session info: chrome=108.0.5359.124)\n",
     "output_type": "error",
     "traceback": [
      "\u001b[0;31m---------------------------------------------------------------------------\u001b[0m",
      "\u001b[0;31mNoSuchElementException\u001b[0m                    Traceback (most recent call last)",
      "Cell \u001b[0;32mIn[128], line 16\u001b[0m\n\u001b[1;32m      6\u001b[0m driver\u001b[38;5;241m.\u001b[39mimplicitly_wait(\u001b[38;5;241m10\u001b[39m)\n\u001b[1;32m      8\u001b[0m \u001b[38;5;66;03m# 윈도우 뭐가 떠있는지 확인\u001b[39;00m\n\u001b[1;32m      9\u001b[0m \u001b[38;5;66;03m# current_windows = driver.window_handles\u001b[39;00m\n\u001b[1;32m     10\u001b[0m \u001b[38;5;66;03m# print(current_windows)\u001b[39;00m\n\u001b[0;32m   (...)\u001b[0m\n\u001b[1;32m     14\u001b[0m \u001b[38;5;66;03m# content = driver.find_elements_by_tag_name(\"iframe\")\u001b[39;00m\n\u001b[1;32m     15\u001b[0m \u001b[38;5;66;03m# driver.switch_to.frame(content)\u001b[39;00m\n\u001b[0;32m---> 16\u001b[0m \u001b[43mdriver\u001b[49m\u001b[38;5;241;43m.\u001b[39;49m\u001b[43mfind_element\u001b[49m\u001b[43m(\u001b[49m\u001b[43mBy\u001b[49m\u001b[38;5;241;43m.\u001b[39;49m\u001b[43mXPATH\u001b[49m\u001b[43m,\u001b[49m\u001b[43m \u001b[49m\u001b[38;5;124;43m'\u001b[39;49m\u001b[38;5;124;43m//*[@id=\u001b[39;49m\u001b[38;5;124;43m\"\u001b[39;49m\u001b[38;5;124;43musercentrics-language-selector\u001b[39;49m\u001b[38;5;124;43m\"\u001b[39;49m\u001b[38;5;124;43m]/button/svg/g/g/path\u001b[39;49m\u001b[38;5;124;43m'\u001b[39;49m\u001b[43m)\u001b[49m\u001b[38;5;241m.\u001b[39mclick()\n",
      "File \u001b[0;32m~/anaconda3/envs/collector/lib/python3.10/site-packages/selenium/webdriver/remote/webdriver.py:976\u001b[0m, in \u001b[0;36mWebDriver.find_element\u001b[0;34m(self, by, value)\u001b[0m\n\u001b[1;32m    974\u001b[0m         by \u001b[38;5;241m=\u001b[39m By\u001b[38;5;241m.\u001b[39mCSS_SELECTOR\n\u001b[1;32m    975\u001b[0m         value \u001b[38;5;241m=\u001b[39m \u001b[38;5;124m'\u001b[39m\u001b[38;5;124m[name=\u001b[39m\u001b[38;5;124m\"\u001b[39m\u001b[38;5;132;01m%s\u001b[39;00m\u001b[38;5;124m\"\u001b[39m\u001b[38;5;124m]\u001b[39m\u001b[38;5;124m'\u001b[39m \u001b[38;5;241m%\u001b[39m value\n\u001b[0;32m--> 976\u001b[0m \u001b[38;5;28;01mreturn\u001b[39;00m \u001b[38;5;28;43mself\u001b[39;49m\u001b[38;5;241;43m.\u001b[39;49m\u001b[43mexecute\u001b[49m\u001b[43m(\u001b[49m\u001b[43mCommand\u001b[49m\u001b[38;5;241;43m.\u001b[39;49m\u001b[43mFIND_ELEMENT\u001b[49m\u001b[43m,\u001b[49m\u001b[43m \u001b[49m\u001b[43m{\u001b[49m\n\u001b[1;32m    977\u001b[0m \u001b[43m    \u001b[49m\u001b[38;5;124;43m'\u001b[39;49m\u001b[38;5;124;43musing\u001b[39;49m\u001b[38;5;124;43m'\u001b[39;49m\u001b[43m:\u001b[49m\u001b[43m \u001b[49m\u001b[43mby\u001b[49m\u001b[43m,\u001b[49m\n\u001b[1;32m    978\u001b[0m \u001b[43m    \u001b[49m\u001b[38;5;124;43m'\u001b[39;49m\u001b[38;5;124;43mvalue\u001b[39;49m\u001b[38;5;124;43m'\u001b[39;49m\u001b[43m:\u001b[49m\u001b[43m \u001b[49m\u001b[43mvalue\u001b[49m\u001b[43m}\u001b[49m\u001b[43m)\u001b[49m[\u001b[38;5;124m'\u001b[39m\u001b[38;5;124mvalue\u001b[39m\u001b[38;5;124m'\u001b[39m]\n",
      "File \u001b[0;32m~/anaconda3/envs/collector/lib/python3.10/site-packages/selenium/webdriver/remote/webdriver.py:321\u001b[0m, in \u001b[0;36mWebDriver.execute\u001b[0;34m(self, driver_command, params)\u001b[0m\n\u001b[1;32m    319\u001b[0m response \u001b[38;5;241m=\u001b[39m \u001b[38;5;28mself\u001b[39m\u001b[38;5;241m.\u001b[39mcommand_executor\u001b[38;5;241m.\u001b[39mexecute(driver_command, params)\n\u001b[1;32m    320\u001b[0m \u001b[38;5;28;01mif\u001b[39;00m response:\n\u001b[0;32m--> 321\u001b[0m     \u001b[38;5;28;43mself\u001b[39;49m\u001b[38;5;241;43m.\u001b[39;49m\u001b[43merror_handler\u001b[49m\u001b[38;5;241;43m.\u001b[39;49m\u001b[43mcheck_response\u001b[49m\u001b[43m(\u001b[49m\u001b[43mresponse\u001b[49m\u001b[43m)\u001b[49m\n\u001b[1;32m    322\u001b[0m     response[\u001b[38;5;124m'\u001b[39m\u001b[38;5;124mvalue\u001b[39m\u001b[38;5;124m'\u001b[39m] \u001b[38;5;241m=\u001b[39m \u001b[38;5;28mself\u001b[39m\u001b[38;5;241m.\u001b[39m_unwrap_value(\n\u001b[1;32m    323\u001b[0m         response\u001b[38;5;241m.\u001b[39mget(\u001b[38;5;124m'\u001b[39m\u001b[38;5;124mvalue\u001b[39m\u001b[38;5;124m'\u001b[39m, \u001b[38;5;28;01mNone\u001b[39;00m))\n\u001b[1;32m    324\u001b[0m     \u001b[38;5;28;01mreturn\u001b[39;00m response\n",
      "File \u001b[0;32m~/anaconda3/envs/collector/lib/python3.10/site-packages/selenium/webdriver/remote/errorhandler.py:242\u001b[0m, in \u001b[0;36mErrorHandler.check_response\u001b[0;34m(self, response)\u001b[0m\n\u001b[1;32m    240\u001b[0m         alert_text \u001b[38;5;241m=\u001b[39m value[\u001b[38;5;124m'\u001b[39m\u001b[38;5;124malert\u001b[39m\u001b[38;5;124m'\u001b[39m]\u001b[38;5;241m.\u001b[39mget(\u001b[38;5;124m'\u001b[39m\u001b[38;5;124mtext\u001b[39m\u001b[38;5;124m'\u001b[39m)\n\u001b[1;32m    241\u001b[0m     \u001b[38;5;28;01mraise\u001b[39;00m exception_class(message, screen, stacktrace, alert_text)\n\u001b[0;32m--> 242\u001b[0m \u001b[38;5;28;01mraise\u001b[39;00m exception_class(message, screen, stacktrace)\n",
      "\u001b[0;31mNoSuchElementException\u001b[0m: Message: no such element: Unable to locate element: {\"method\":\"xpath\",\"selector\":\"//*[@id=\"usercentrics-language-selector\"]/button/svg/g/g/path\"}\n  (Session info: chrome=108.0.5359.124)\n"
     ]
    }
   ],
   "source": [
    "# 브라우저 오픈\n",
    "\n",
    "driver = webdriver.Chrome('./chromedriver')\n",
    "url = 'https://www.s-kaupat.fi/tuotteet/maito-munat-ja-rasvat-0/maidot-ja-piimat/maidot?queryString=maito'\n",
    "driver.get(url)\n",
    "driver.implicitly_wait(10)\n",
    "\n",
    "# 윈도우 뭐가 떠있는지 확인\n",
    "# current_windows = driver.window_handles\n",
    "# print(current_windows)\n",
    "\n",
    "        \n",
    "\n",
    "# content = driver.find_elements_by_tag_name(\"iframe\")\n",
    "# driver.switch_to.frame(content)\n",
    "driver.find_element(By.XPATH, '//*[@id=\"usercentrics-language-selector\"]/button/svg/g/g/path').click()\n",
    "# try:\n",
    "#     element = WebDriverWait(driver, 7).until(\n",
    "#         EC.element_to_be_clickable((By.XPATH, \"//*[@id='uc-center-container']/div[2]/div/div/div/div/button[3]\"))\n",
    "#     )\n",
    "# finally:\n",
    "#     print(\"miss\")"
   ]
  },
  {
   "cell_type": "code",
   "execution_count": 116,
   "id": "e27044a6",
   "metadata": {},
   "outputs": [],
   "source": [
    "# Working at jan 8 2023\n",
    "driver = webdriver.Chrome('./chromedriver')\n",
    "url = 'https://www.google.com'\n",
    "driver.get(url)\n",
    "\n",
    "# driver.implicitly_wait(5)\n",
    "\n",
    "driver.find_element(By.XPATH, \"//*[@id='L2AGLb']/div\").click()"
   ]
  },
  {
   "cell_type": "code",
   "execution_count": 132,
   "id": "758bf99b",
   "metadata": {},
   "outputs": [
    {
     "ename": "NoSuchElementException",
     "evalue": "Message: no such element: Unable to locate element: {\"method\":\"css selector\",\"selector\":\".sc-iOeugr\"}\n  (Session info: chrome=108.0.5359.124)\n",
     "output_type": "error",
     "traceback": [
      "\u001b[0;31m---------------------------------------------------------------------------\u001b[0m",
      "\u001b[0;31mNoSuchElementException\u001b[0m                    Traceback (most recent call last)",
      "Cell \u001b[0;32mIn[132], line 7\u001b[0m\n\u001b[1;32m      3\u001b[0m driver\u001b[38;5;241m.\u001b[39mget(url)\n\u001b[1;32m      5\u001b[0m driver\u001b[38;5;241m.\u001b[39mimplicitly_wait(\u001b[38;5;241m5\u001b[39m)\n\u001b[0;32m----> 7\u001b[0m \u001b[43mdriver\u001b[49m\u001b[38;5;241;43m.\u001b[39;49m\u001b[43mfind_element\u001b[49m\u001b[43m(\u001b[49m\u001b[43mBy\u001b[49m\u001b[38;5;241;43m.\u001b[39;49m\u001b[43mCLASS_NAME\u001b[49m\u001b[43m,\u001b[49m\u001b[43m \u001b[49m\u001b[38;5;124;43m'\u001b[39;49m\u001b[38;5;124;43msc-iOeugr\u001b[39;49m\u001b[38;5;124;43m'\u001b[39;49m\u001b[43m)\u001b[49m\n",
      "File \u001b[0;32m~/anaconda3/envs/collector/lib/python3.10/site-packages/selenium/webdriver/remote/webdriver.py:976\u001b[0m, in \u001b[0;36mWebDriver.find_element\u001b[0;34m(self, by, value)\u001b[0m\n\u001b[1;32m    974\u001b[0m         by \u001b[38;5;241m=\u001b[39m By\u001b[38;5;241m.\u001b[39mCSS_SELECTOR\n\u001b[1;32m    975\u001b[0m         value \u001b[38;5;241m=\u001b[39m \u001b[38;5;124m'\u001b[39m\u001b[38;5;124m[name=\u001b[39m\u001b[38;5;124m\"\u001b[39m\u001b[38;5;132;01m%s\u001b[39;00m\u001b[38;5;124m\"\u001b[39m\u001b[38;5;124m]\u001b[39m\u001b[38;5;124m'\u001b[39m \u001b[38;5;241m%\u001b[39m value\n\u001b[0;32m--> 976\u001b[0m \u001b[38;5;28;01mreturn\u001b[39;00m \u001b[38;5;28;43mself\u001b[39;49m\u001b[38;5;241;43m.\u001b[39;49m\u001b[43mexecute\u001b[49m\u001b[43m(\u001b[49m\u001b[43mCommand\u001b[49m\u001b[38;5;241;43m.\u001b[39;49m\u001b[43mFIND_ELEMENT\u001b[49m\u001b[43m,\u001b[49m\u001b[43m \u001b[49m\u001b[43m{\u001b[49m\n\u001b[1;32m    977\u001b[0m \u001b[43m    \u001b[49m\u001b[38;5;124;43m'\u001b[39;49m\u001b[38;5;124;43musing\u001b[39;49m\u001b[38;5;124;43m'\u001b[39;49m\u001b[43m:\u001b[49m\u001b[43m \u001b[49m\u001b[43mby\u001b[49m\u001b[43m,\u001b[49m\n\u001b[1;32m    978\u001b[0m \u001b[43m    \u001b[49m\u001b[38;5;124;43m'\u001b[39;49m\u001b[38;5;124;43mvalue\u001b[39;49m\u001b[38;5;124;43m'\u001b[39;49m\u001b[43m:\u001b[49m\u001b[43m \u001b[49m\u001b[43mvalue\u001b[49m\u001b[43m}\u001b[49m\u001b[43m)\u001b[49m[\u001b[38;5;124m'\u001b[39m\u001b[38;5;124mvalue\u001b[39m\u001b[38;5;124m'\u001b[39m]\n",
      "File \u001b[0;32m~/anaconda3/envs/collector/lib/python3.10/site-packages/selenium/webdriver/remote/webdriver.py:321\u001b[0m, in \u001b[0;36mWebDriver.execute\u001b[0;34m(self, driver_command, params)\u001b[0m\n\u001b[1;32m    319\u001b[0m response \u001b[38;5;241m=\u001b[39m \u001b[38;5;28mself\u001b[39m\u001b[38;5;241m.\u001b[39mcommand_executor\u001b[38;5;241m.\u001b[39mexecute(driver_command, params)\n\u001b[1;32m    320\u001b[0m \u001b[38;5;28;01mif\u001b[39;00m response:\n\u001b[0;32m--> 321\u001b[0m     \u001b[38;5;28;43mself\u001b[39;49m\u001b[38;5;241;43m.\u001b[39;49m\u001b[43merror_handler\u001b[49m\u001b[38;5;241;43m.\u001b[39;49m\u001b[43mcheck_response\u001b[49m\u001b[43m(\u001b[49m\u001b[43mresponse\u001b[49m\u001b[43m)\u001b[49m\n\u001b[1;32m    322\u001b[0m     response[\u001b[38;5;124m'\u001b[39m\u001b[38;5;124mvalue\u001b[39m\u001b[38;5;124m'\u001b[39m] \u001b[38;5;241m=\u001b[39m \u001b[38;5;28mself\u001b[39m\u001b[38;5;241m.\u001b[39m_unwrap_value(\n\u001b[1;32m    323\u001b[0m         response\u001b[38;5;241m.\u001b[39mget(\u001b[38;5;124m'\u001b[39m\u001b[38;5;124mvalue\u001b[39m\u001b[38;5;124m'\u001b[39m, \u001b[38;5;28;01mNone\u001b[39;00m))\n\u001b[1;32m    324\u001b[0m     \u001b[38;5;28;01mreturn\u001b[39;00m response\n",
      "File \u001b[0;32m~/anaconda3/envs/collector/lib/python3.10/site-packages/selenium/webdriver/remote/errorhandler.py:242\u001b[0m, in \u001b[0;36mErrorHandler.check_response\u001b[0;34m(self, response)\u001b[0m\n\u001b[1;32m    240\u001b[0m         alert_text \u001b[38;5;241m=\u001b[39m value[\u001b[38;5;124m'\u001b[39m\u001b[38;5;124malert\u001b[39m\u001b[38;5;124m'\u001b[39m]\u001b[38;5;241m.\u001b[39mget(\u001b[38;5;124m'\u001b[39m\u001b[38;5;124mtext\u001b[39m\u001b[38;5;124m'\u001b[39m)\n\u001b[1;32m    241\u001b[0m     \u001b[38;5;28;01mraise\u001b[39;00m exception_class(message, screen, stacktrace, alert_text)\n\u001b[0;32m--> 242\u001b[0m \u001b[38;5;28;01mraise\u001b[39;00m exception_class(message, screen, stacktrace)\n",
      "\u001b[0;31mNoSuchElementException\u001b[0m: Message: no such element: Unable to locate element: {\"method\":\"css selector\",\"selector\":\".sc-iOeugr\"}\n  (Session info: chrome=108.0.5359.124)\n"
     ]
    }
   ],
   "source": [
    "\n",
    "driver = webdriver.Chrome('./chromedriver')\n",
    "url = 'https://www.s-kaupat.fi/'\n",
    "driver.get(url)\n",
    "\n",
    "driver.implicitly_wait(5)\n",
    "\n",
    "driver.find_element(By.CLASS_NAME, 'sc-iOeugr')\n",
    "\n",
    "# driver.find_element(By.XPATH, \"//*[@id='L2AGLb']/div\").click()\n",
    "# WebDriverWait(driver,10).until(EC.frame_to_be_available_and_switch_to_it((By.XPATH,'//iframe[@id=\"sp_message_iframe_382445\"]')))\n",
    "# WebDriverWait(driver,10).until(EC.element_to_be_clickable((By.XPATH,\"//button[contains(@title,'ACCEPT ALL')]\"))).click()"
   ]
  },
  {
   "cell_type": "code",
   "execution_count": null,
   "id": "ee49fd30",
   "metadata": {},
   "outputs": [],
   "source": []
  }
 ],
 "metadata": {
  "kernelspec": {
   "display_name": "Python 3 (ipykernel)",
   "language": "python",
   "name": "python3"
  },
  "language_info": {
   "codemirror_mode": {
    "name": "ipython",
    "version": 3
   },
   "file_extension": ".py",
   "mimetype": "text/x-python",
   "name": "python",
   "nbconvert_exporter": "python",
   "pygments_lexer": "ipython3",
   "version": "3.10.8"
  }
 },
 "nbformat": 4,
 "nbformat_minor": 5
}
